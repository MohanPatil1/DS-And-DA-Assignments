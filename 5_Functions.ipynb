{
  "cells": [
    {
      "cell_type": "markdown",
      "metadata": {
        "id": "view-in-github",
        "colab_type": "text"
      },
      "source": [
        "<a href=\"https://colab.research.google.com/github/MohanPatil1/DS-And-DA-Assignments/blob/main/5_Functions.ipynb\" target=\"_parent\"><img src=\"https://colab.research.google.com/assets/colab-badge.svg\" alt=\"Open In Colab\"/></a>"
      ]
    },
    {
      "cell_type": "markdown",
      "id": "4dc932c5",
      "metadata": {
        "id": "4dc932c5"
      },
      "source": [
        "# Functions"
      ]
    },
    {
      "cell_type": "markdown",
      "id": "60249148",
      "metadata": {
        "id": "60249148"
      },
      "source": [
        " - Code reusability"
      ]
    },
    {
      "cell_type": "code",
      "execution_count": null,
      "id": "d4ddb296",
      "metadata": {
        "id": "d4ddb296"
      },
      "outputs": [],
      "source": [
        "def simplefunction():\n",
        "    print(\"Starting point of the function\")\n",
        "    print(\"finishing point of the function\")"
      ]
    },
    {
      "cell_type": "code",
      "execution_count": null,
      "id": "1403093c",
      "metadata": {
        "id": "1403093c",
        "outputId": "d8b1700d-e3fe-41cf-f811-1caea39ea930"
      },
      "outputs": [
        {
          "name": "stdout",
          "output_type": "stream",
          "text": [
            "Starting point of the function\n",
            "finishing point of the function\n"
          ]
        }
      ],
      "source": [
        "simplefunction()"
      ]
    },
    {
      "cell_type": "code",
      "execution_count": null,
      "id": "cc686bbb",
      "metadata": {
        "id": "cc686bbb"
      },
      "outputs": [],
      "source": [
        "## Find maximum of numbers\n",
        "#shift +tab+tab\n",
        "def maximumnumber(x1,x2):\n",
        "    \"\"\"Function takes two numbers x1 and x2, returns maximum of those\"\"\"\n",
        "    if x1 > x2:\n",
        "        return x1\n",
        "    else:\n",
        "        return x2"
      ]
    },
    {
      "cell_type": "code",
      "execution_count": null,
      "id": "2556d06c",
      "metadata": {
        "id": "2556d06c",
        "outputId": "6be84c56-ee19-44dd-9227-897a3d24faa9"
      },
      "outputs": [
        {
          "data": {
            "text/plain": [
              "8"
            ]
          },
          "execution_count": 4,
          "metadata": {},
          "output_type": "execute_result"
        }
      ],
      "source": [
        "maximumnumber()"
      ]
    },
    {
      "cell_type": "code",
      "execution_count": null,
      "id": "7388e56e",
      "metadata": {
        "id": "7388e56e",
        "outputId": "ba8436ac-86c9-4e92-c9db-e9a28165c00c"
      },
      "outputs": [
        {
          "name": "stdout",
          "output_type": "stream",
          "text": [
            "\n"
          ]
        }
      ],
      "source": [
        "type()"
      ]
    },
    {
      "cell_type": "markdown",
      "id": "8dd1a23e",
      "metadata": {
        "id": "8dd1a23e"
      },
      "source": [
        "# Factorial\n",
        " - iterative approach\n",
        " # 5! = 5x4x3x2x1\n",
        " # 4! = 4x3x2x1\n",
        " # 1! = 1\n",
        " # 0! =1"
      ]
    },
    {
      "cell_type": "code",
      "execution_count": null,
      "id": "d1d4018e",
      "metadata": {
        "id": "d1d4018e"
      },
      "outputs": [],
      "source": [
        "def iterfactorial(num):\n",
        "    result = 1\n",
        "    for i in range(1, num + 1):\n",
        "        result = result*i\n",
        "    return result"
      ]
    },
    {
      "cell_type": "code",
      "execution_count": null,
      "id": "d37e067a",
      "metadata": {
        "id": "d37e067a",
        "outputId": "cbe38652-131e-4669-9ebd-e2165dc309fd"
      },
      "outputs": [
        {
          "name": "stdout",
          "output_type": "stream",
          "text": [
            "120\n"
          ]
        }
      ],
      "source": [
        "print(iterfactorial(5))"
      ]
    },
    {
      "cell_type": "code",
      "execution_count": null,
      "id": "c3a3f88a",
      "metadata": {
        "id": "c3a3f88a",
        "outputId": "424aabb4-2536-4944-fc4e-15f67e1cf353"
      },
      "outputs": [
        {
          "name": "stdout",
          "output_type": "stream",
          "text": [
            "3628800\n"
          ]
        }
      ],
      "source": [
        "print(iterfactorial(10))"
      ]
    },
    {
      "cell_type": "code",
      "execution_count": null,
      "id": "5f7bdc0f",
      "metadata": {
        "id": "5f7bdc0f",
        "outputId": "84f05449-a6ef-4863-cc44-cae87c009823"
      },
      "outputs": [
        {
          "name": "stdout",
          "output_type": "stream",
          "text": [
            "Enter any number5\n",
            "Results:  120\n"
          ]
        }
      ],
      "source": [
        "num = int(input(\"Enter any number\"))\n",
        "print(\"Results: \", iterfactorial(num))"
      ]
    },
    {
      "cell_type": "markdown",
      "id": "3ba3398b",
      "metadata": {
        "id": "3ba3398b"
      },
      "source": [
        "# Recursive"
      ]
    },
    {
      "cell_type": "code",
      "execution_count": null,
      "id": "f80cc293",
      "metadata": {
        "id": "f80cc293"
      },
      "outputs": [],
      "source": [
        "#5! = 5 * 4!\n",
        "#4! = 4 * 3!\n",
        "#3! = 3 * 2!"
      ]
    },
    {
      "cell_type": "code",
      "execution_count": null,
      "id": "7f1cca74",
      "metadata": {
        "id": "7f1cca74"
      },
      "outputs": [],
      "source": [
        "def recursive_factorial(num):\n",
        "    if num == 0 or num == 1:\n",
        "        return 1\n",
        "    else:\n",
        "        return num * recursive_factorial(num - 1)"
      ]
    },
    {
      "cell_type": "code",
      "execution_count": null,
      "id": "4f887231",
      "metadata": {
        "id": "4f887231",
        "outputId": "f32458d8-1f62-4187-9430-13b2dab63aa5"
      },
      "outputs": [
        {
          "data": {
            "text/plain": [
              "120"
            ]
          },
          "execution_count": 17,
          "metadata": {},
          "output_type": "execute_result"
        }
      ],
      "source": [
        "recursive_factorial(5)"
      ]
    },
    {
      "cell_type": "markdown",
      "id": "03280cb6",
      "metadata": {
        "id": "03280cb6"
      },
      "source": [
        "## Default arguments"
      ]
    },
    {
      "cell_type": "code",
      "execution_count": null,
      "id": "6bd886e9",
      "metadata": {
        "id": "6bd886e9"
      },
      "outputs": [],
      "source": [
        "def defaultargumentfunc(x):\n",
        "    print(\"The value of x is {}\".format(x))"
      ]
    },
    {
      "cell_type": "code",
      "execution_count": null,
      "id": "f2a853b3",
      "metadata": {
        "id": "f2a853b3",
        "outputId": "8025248f-b949-447a-c930-13f7353c6a99"
      },
      "outputs": [
        {
          "name": "stdout",
          "output_type": "stream",
          "text": [
            "The value of x is 7\n"
          ]
        }
      ],
      "source": [
        "defaultargumentfunc(7)"
      ]
    },
    {
      "cell_type": "code",
      "execution_count": null,
      "id": "b21f3ee2",
      "metadata": {
        "id": "b21f3ee2"
      },
      "outputs": [],
      "source": [
        "def defaultargumentfunc(x=7):\n",
        "    print(\"The value of x is {}\".format(x))"
      ]
    },
    {
      "cell_type": "code",
      "execution_count": null,
      "id": "c933a1c9",
      "metadata": {
        "id": "c933a1c9",
        "outputId": "88018475-ffa0-40b4-d639-ad8b0ffc02df"
      },
      "outputs": [
        {
          "name": "stdout",
          "output_type": "stream",
          "text": [
            "The value of x is 7\n"
          ]
        }
      ],
      "source": [
        "defaultargumentfunc()"
      ]
    },
    {
      "cell_type": "code",
      "execution_count": null,
      "id": "bc6aff92",
      "metadata": {
        "id": "bc6aff92"
      },
      "outputs": [],
      "source": [
        "####\n",
        "def defaultargumentfunc(a, b, c):\n",
        "    print(\"results {}, {}, {}\".format(a,b,c))"
      ]
    },
    {
      "cell_type": "code",
      "execution_count": null,
      "id": "8063846f",
      "metadata": {
        "id": "8063846f",
        "outputId": "22db0843-04fe-4c20-c089-338a0699b242"
      },
      "outputs": [
        {
          "name": "stdout",
          "output_type": "stream",
          "text": [
            "results 10, 20, 30\n"
          ]
        }
      ],
      "source": [
        "defaultargumentfunc(10,20,30)"
      ]
    },
    {
      "cell_type": "code",
      "execution_count": null,
      "id": "911fb219",
      "metadata": {
        "id": "911fb219",
        "outputId": "44cc3c26-c753-43aa-ca90-18f4ba985545"
      },
      "outputs": [
        {
          "name": "stdout",
          "output_type": "stream",
          "text": [
            "results 10, 30, 20\n"
          ]
        }
      ],
      "source": [
        "defaultargumentfunc(10, c = 20, b = 30)"
      ]
    },
    {
      "cell_type": "code",
      "execution_count": null,
      "id": "0c5d69ca",
      "metadata": {
        "id": "0c5d69ca",
        "outputId": "c94ab710-547c-4265-9524-4a84501191e8"
      },
      "outputs": [
        {
          "name": "stdout",
          "output_type": "stream",
          "text": [
            "results 20, 10, 30\n"
          ]
        }
      ],
      "source": [
        "defaultargumentfunc(b = 10, a = 20, c = 30)"
      ]
    },
    {
      "cell_type": "code",
      "execution_count": null,
      "id": "4d78d977",
      "metadata": {
        "scrolled": true,
        "id": "4d78d977",
        "outputId": "50b70ab8-d7ea-4376-ffc2-e00a262bfb9b"
      },
      "outputs": [
        {
          "name": "stdout",
          "output_type": "stream",
          "text": [
            "results 20, 10, 30\n"
          ]
        }
      ],
      "source": [
        "defaultargumentfunc(20, b = 10, c = 30)"
      ]
    },
    {
      "cell_type": "markdown",
      "id": "6977ae69",
      "metadata": {
        "id": "6977ae69"
      },
      "source": [
        "## Lambda Function\n",
        "- Anonymous functions\n",
        "- one liners"
      ]
    },
    {
      "cell_type": "code",
      "execution_count": null,
      "id": "1e3abbc5",
      "metadata": {
        "id": "1e3abbc5"
      },
      "outputs": [],
      "source": [
        "def squares(x):\n",
        "    return x * x"
      ]
    },
    {
      "cell_type": "code",
      "execution_count": null,
      "id": "96fa5a83",
      "metadata": {
        "id": "96fa5a83",
        "outputId": "4ffb78db-1a9e-420f-e35f-d4348cfb6787"
      },
      "outputs": [
        {
          "data": {
            "text/plain": [
              "25"
            ]
          },
          "execution_count": 42,
          "metadata": {},
          "output_type": "execute_result"
        }
      ],
      "source": [
        "squares(5)"
      ]
    },
    {
      "cell_type": "code",
      "execution_count": null,
      "id": "3d6183cf",
      "metadata": {
        "id": "3d6183cf"
      },
      "outputs": [],
      "source": [
        "f = lambda x : x*x"
      ]
    },
    {
      "cell_type": "code",
      "execution_count": null,
      "id": "2f52aeda",
      "metadata": {
        "id": "2f52aeda",
        "outputId": "155be4aa-f650-44f0-f58c-989e14977350"
      },
      "outputs": [
        {
          "data": {
            "text/plain": [
              "25"
            ]
          },
          "execution_count": 44,
          "metadata": {},
          "output_type": "execute_result"
        }
      ],
      "source": [
        "f(5)"
      ]
    },
    {
      "cell_type": "code",
      "execution_count": null,
      "id": "68443156",
      "metadata": {
        "id": "68443156"
      },
      "outputs": [],
      "source": [
        "multipy = lambda x, y : x*y"
      ]
    },
    {
      "cell_type": "code",
      "execution_count": null,
      "id": "330483e6",
      "metadata": {
        "id": "330483e6",
        "outputId": "f791e68d-a5e2-4b49-e2ee-e98a91f641b9"
      },
      "outputs": [
        {
          "data": {
            "text/plain": [
              "6"
            ]
          },
          "execution_count": 50,
          "metadata": {},
          "output_type": "execute_result"
        }
      ],
      "source": [
        "multipy(2,3)"
      ]
    },
    {
      "cell_type": "code",
      "execution_count": null,
      "id": "36dff92f",
      "metadata": {
        "id": "36dff92f"
      },
      "outputs": [],
      "source": [
        "def mult(x,y):\n",
        "    return x*y"
      ]
    },
    {
      "cell_type": "code",
      "execution_count": null,
      "id": "8425924a",
      "metadata": {
        "id": "8425924a",
        "outputId": "50091fa1-3ef7-4a73-ff1a-8c16e463a829"
      },
      "outputs": [
        {
          "data": {
            "text/plain": [
              "6"
            ]
          },
          "execution_count": 52,
          "metadata": {},
          "output_type": "execute_result"
        }
      ],
      "source": [
        "mult(2,3)"
      ]
    },
    {
      "cell_type": "code",
      "execution_count": null,
      "id": "6fd91fd8",
      "metadata": {
        "id": "6fd91fd8",
        "outputId": "0c049f1a-d1c2-4fa4-dfd4-be4d832cb3ab"
      },
      "outputs": [
        {
          "data": {
            "text/plain": [
              "6"
            ]
          },
          "execution_count": 53,
          "metadata": {},
          "output_type": "execute_result"
        }
      ],
      "source": [
        "(lambda x, y : x*y)(2,3)"
      ]
    },
    {
      "cell_type": "code",
      "execution_count": null,
      "id": "16d6be1e",
      "metadata": {
        "id": "16d6be1e",
        "outputId": "13280806-926e-4450-fe2a-14616ecc26d1"
      },
      "outputs": [
        {
          "data": {
            "text/plain": [
              "5"
            ]
          },
          "execution_count": 54,
          "metadata": {},
          "output_type": "execute_result"
        }
      ],
      "source": [
        "(lambda x, y : x+y)(2,3)"
      ]
    },
    {
      "cell_type": "code",
      "execution_count": null,
      "id": "8dcc484e",
      "metadata": {
        "id": "8dcc484e"
      },
      "outputs": [],
      "source": []
    }
  ],
  "metadata": {
    "kernelspec": {
      "display_name": "Python 3 (ipykernel)",
      "language": "python",
      "name": "python3"
    },
    "language_info": {
      "codemirror_mode": {
        "name": "ipython",
        "version": 3
      },
      "file_extension": ".py",
      "mimetype": "text/x-python",
      "name": "python",
      "nbconvert_exporter": "python",
      "pygments_lexer": "ipython3",
      "version": "3.9.12"
    },
    "colab": {
      "provenance": [],
      "include_colab_link": true
    }
  },
  "nbformat": 4,
  "nbformat_minor": 5
}